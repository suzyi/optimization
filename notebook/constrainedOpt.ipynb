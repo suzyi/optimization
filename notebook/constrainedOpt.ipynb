{
 "cells": [
  {
   "cell_type": "markdown",
   "metadata": {},
   "source": [
    "Try to solve an constrained problem appearing in the context of computing the converse process of a relu deep neural network (DNN)\n",
    "\n",
    "guorui, Sep 20, 2018."
   ]
  },
  {
   "cell_type": "markdown",
   "metadata": {},
   "source": [
    "\\begin{eqnarray}\n",
    "&\\mathop{\\text{min}}\\limits_{x}~&\\|\\text{relu}(Ax + b)-y\\|_2^2\\\\\n",
    "&\\text{s.t.}~&x\\geq 0.\n",
    "\\end{eqnarray}\n",
    "where $A\\in R^{m\\times n}, b, y\\in R^m$ are known, and $y$ usually has non-negative components (but not necessary)."
   ]
  },
  {
   "cell_type": "markdown",
   "metadata": {},
   "source": [
    "Note that this problem may be solved directly using tensorflow, see [official document](https://www.tensorflow.org/api_docs/python/tf/contrib/opt/ScipyOptimizerInterface). However, to practice your programming ability, you have to write the gradient descent on you own and consider how to deal with the inequality conditions. You are allowed to use things like `Autograd` or `tf.gradients()` to compute derivatives."
   ]
  }
 ],
 "metadata": {
  "kernelspec": {
   "display_name": "Python 2",
   "language": "python",
   "name": "python2"
  },
  "language_info": {
   "codemirror_mode": {
    "name": "ipython",
    "version": 2
   },
   "file_extension": ".py",
   "mimetype": "text/x-python",
   "name": "python",
   "nbconvert_exporter": "python",
   "pygments_lexer": "ipython2",
   "version": "2.7.14"
  }
 },
 "nbformat": 4,
 "nbformat_minor": 2
}
