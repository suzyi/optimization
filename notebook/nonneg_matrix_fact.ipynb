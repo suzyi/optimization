{
 "cells": [
  {
   "cell_type": "markdown",
   "metadata": {},
   "source": [
    "# Nonnegative matrix factorization\n",
    "Conclusion: \n",
    "\n",
    "1 - The proposed method by Lee, Daniel et al is far better in both speed and precise, compared with example from cvxpy.\n",
    "\n",
    "2 - Convergence is guanranteed in the proposed method. However, the convergence of cvxpy deeply rely on intial values.\n",
    "\n",
    "Ｏｃt 10, 2018, Wednesday\n",
    "\n",
    "We compare the multiplicative update algorithm from the paper \"Lee, Daniel D., and H. Sebastian Seung. \"Algorithms for non-negative matrix factorization.\" Advances in neural information processing systems. 2001.\" with algorithm in CVXPY \"http://www.cvxpy.org/examples/applications/nonneg_matrix_fact.html\"."
   ]
  },
  {
   "cell_type": "markdown",
   "metadata": {},
   "source": [
    "# Nonnegative matrix factorization\n",
    "\n",
    "A derivative work by Judson Wilson, 6/2/2014.    \n",
    "Adapted from the CVX example of the same name, by Argyris Zymnis, Joelle Skaf and Stephen Boyd\n",
    "\n",
    "## Introduction\n",
    "\n",
    "We are given a matrix $A \\in \\mathbf{\\mbox{R}}^{m \\times n}$ and are interested in solving the problem:\n",
    "    \\begin{array}{ll}\n",
    "    \\mbox{minimize}   & \\| A - YX \\|_F \\\\\n",
    "    \\mbox{subject to} & Y \\succeq 0 \\\\\n",
    "                      & X \\succeq 0,\n",
    "    \\end{array}\n",
    "where $Y \\in \\mathbf{\\mbox{R}}^{m \\times k}$ and $X \\in \\mathbf{\\mbox{R}}^{k \\times n}$.\n",
    "\n",
    "This example generates a random matrix $A$ and obtains an\n",
    "*approximate* solution to the above problem by first generating\n",
    "a random initial guess for $Y$ and then alternatively minimizing\n",
    "over $X$ and $Y$ for a fixed number of iterations.\n",
    "\n",
    "## Generate problem data"
   ]
  },
  {
   "cell_type": "code",
   "execution_count": 1,
   "metadata": {},
   "outputs": [],
   "source": [
    "import os\n",
    "os.environ[\"CUDA_DEVICE_ORDER\"] = \"PCI_BUS_ID\"\n",
    "os.environ[\"CUDA_VISIBLE_DEVICES\"] = \"2, 3\""
   ]
  },
  {
   "cell_type": "code",
   "execution_count": 2,
   "metadata": {},
   "outputs": [],
   "source": [
    "import cvxpy as cvx\n",
    "import numpy as np\n",
    "\n",
    "# Ensure repeatably random problem data.\n",
    "np.random.seed(0) # on lab server - 15 > 4(epoch = 13) > \n",
    "\n",
    "# Generate random data matrix A.\n",
    "m = 10\n",
    "n = 10\n",
    "k = 5\n",
    "A = np.random.rand(m, k).dot(np.random.rand(k, n))\n",
    "\n",
    "# Initialize Y randomly.\n",
    "Y_init = np.random.rand(m, k)\n",
    "Y_tmp = Y_init"
   ]
  },
  {
   "cell_type": "markdown",
   "metadata": {},
   "source": [
    "## Perform alternating minimization"
   ]
  },
  {
   "cell_type": "code",
   "execution_count": 3,
   "metadata": {},
   "outputs": [
    {
     "name": "stdout",
     "output_type": "stream",
     "text": [
      "Iteration 1, residual norm 2.76555695434\n",
      "Iteration 2, residual norm 0.584256808645\n",
      "Iteration 3, residual norm 0.46513327133\n",
      "Iteration 4, residual norm 0.31216362607\n",
      "Iteration 5, residual norm 0.213708185926\n",
      "Iteration 6, residual norm 0.153396480435\n",
      "Iteration 7, residual norm 0.122265590483\n",
      "Iteration 8, residual norm 0.10264166439\n",
      "Iteration 9, residual norm 0.0882686626139\n",
      "Iteration 10, residual norm 0.0774820312867\n"
     ]
    }
   ],
   "source": [
    "# Ensure same initial random Y, rather than generate new one\n",
    "# when executing this cell.\n",
    "Y = Y_init \n",
    "\n",
    "# Perform alternating minimization.\n",
    "MAX_ITERS = 10\n",
    "residual = np.zeros(MAX_ITERS)\n",
    "for iter_num in range(1, 1+MAX_ITERS):\n",
    "    # At the beginning of an iteration, X and Y are NumPy\n",
    "    # array types, NOT CVXPY variables.\n",
    "\n",
    "    # For odd iterations, treat Y constant, optimize over X.\n",
    "    if iter_num % 2 == 1:\n",
    "        X = cvx.Variable(shape=(k, n))\n",
    "        constraint = [X >= 0]\n",
    "    # For even iterations, treat X constant, optimize over Y.\n",
    "    else:\n",
    "        Y = cvx.Variable(shape=(m, k))\n",
    "        constraint = [Y >= 0]\n",
    "    \n",
    "    # Solve the problem.\n",
    "    obj = cvx.Minimize(cvx.norm(A - Y*X, 'fro'))\n",
    "    prob = cvx.Problem(obj, constraint)\n",
    "    prob.solve(solver=cvx.SCS)\n",
    "\n",
    "    if prob.status != cvx.OPTIMAL:\n",
    "        raise Exception(\"Solver did not converge!\")\n",
    "    \n",
    "    print('Iteration {}, residual norm {}'.format(iter_num, prob.value))\n",
    "    residual[iter_num-1] = prob.value\n",
    "\n",
    "    # Convert variable to NumPy array constant for next iteration.\n",
    "    if iter_num % 2 == 1:\n",
    "        X = X.value\n",
    "    else:\n",
    "        Y = Y.value"
   ]
  },
  {
   "cell_type": "markdown",
   "metadata": {},
   "source": [
    "## Output results"
   ]
  },
  {
   "cell_type": "code",
   "execution_count": 4,
   "metadata": {},
   "outputs": [
    {
     "data": {
      "image/png": "[encoded data removed]",
      "text/plain": [
       "<matplotlib.figure.Figure at 0x7fe9b6795790>"
      ]
     },
     "metadata": {
      "needs_background": "light"
     },
     "output_type": "display_data"
    },
    {
     "name": "stdout",
     "output_type": "stream",
     "text": [
      "Original matrix:\n",
      "[[1.323426   1.11061189 1.69137835 1.20020115 1.13216889 0.5980743\n",
      "  1.64965406 0.340611   1.69871738 0.78278448]\n",
      " [1.73721109 1.40464204 1.90898877 1.60774132 1.53717253 0.62647405\n",
      "  1.76242265 0.41151492 1.8048194  1.20313124]\n",
      " [1.4071438  1.10269406 1.75323063 1.18928983 1.23428169 0.60364688\n",
      "  1.63792853 0.40855006 1.57257432 1.17227344]\n",
      " [1.3905141  1.33367163 1.07723947 1.67735654 1.33039096 0.42003169\n",
      "  1.22641711 0.21470465 1.47350799 0.84931787]\n",
      " [1.42153652 1.13598552 2.00816457 1.11463462 1.17914429 0.69942578\n",
      "  1.90353699 0.45664487 1.81023916 1.09668578]\n",
      " [1.60813803 1.23214532 1.73741086 1.3148874  1.27589039 0.40755835\n",
      "  1.31904948 0.3469129  1.34256526 0.76924618]\n",
      " [0.90607895 0.6632877  1.25412229 0.81696721 0.87218892 0.50032884\n",
      "  1.245879   0.25079329 1.25017792 0.72155621]\n",
      " [1.5691922  1.47359672 1.76518996 1.66268312 1.43746574 0.72486628\n",
      "  1.97409333 0.39239642 2.09234807 1.16325748]\n",
      " [1.18723548 1.00282008 1.41532595 1.03836298 0.90382914 0.38460446\n",
      "  1.213473   0.23641422 1.32784402 0.27179726]\n",
      " [0.75789915 0.75119989 0.99502166 0.65444815 0.56073096 0.341146\n",
      "  1.02555143 0.24273668 1.01035919 0.49427978]]\n",
      "Left factor Y:\n",
      "[[ 7.47656927e-01  3.09095066e-01  6.20657431e-01  6.29542353e-01\n",
      "   5.04319319e+01]\n",
      " [ 6.57039000e-01  8.85324079e-01  5.29150116e-01  3.88714068e-01\n",
      "   7.29260352e+00]\n",
      " [ 5.85053061e-01  7.03525739e-01  8.39400614e-01 -1.54735760e-06\n",
      "   5.38978487e-07]\n",
      " [ 2.51298807e-01  9.06442588e-01  1.32123080e-06  1.11355013e+00\n",
      "   2.50897858e+01]\n",
      " [ 8.10774958e-01  3.94671028e-01  1.14737013e+00  2.55692891e-01\n",
      "   1.23604751e+01]\n",
      " [ 7.82820025e-01  5.75113044e-01 -2.67537902e-06  4.25460301e-01\n",
      "  -1.08014744e-06]\n",
      " [ 4.71476466e-01  3.44020601e-01  6.05236669e-01 -1.54511550e-06\n",
      "   4.42300469e+01]\n",
      " [ 5.86087876e-01  6.92559430e-01  8.84112268e-01  1.03183923e+00\n",
      "   4.08180964e+01]\n",
      " [ 8.25149535e-01 -4.69842627e-06  4.57362803e-07  9.98053120e-01\n",
      "   5.80811242e+01]\n",
      " [ 4.40778726e-01  8.70862447e-02  6.31378087e-01  7.33944963e-01\n",
      "   8.16067791e-07]]\n",
      "Right factor X:\n",
      "[[ 1.22749350e+00  7.60387905e-01  1.69962987e+00  6.43786747e-01\n",
      "   8.19129787e-01  2.96871724e-01  1.03559748e+00  2.99004546e-01\n",
      "   9.20422698e-01  3.44030055e-01]\n",
      " [ 9.75273827e-01  8.02031191e-01  7.13588135e-01  1.14789296e+00\n",
      "   1.03718657e+00  3.00997833e-01  7.67714446e-01  1.64049009e-01\n",
      "   8.83997934e-01  8.52595705e-01]\n",
      " [-7.73278360e-09  9.15873197e-02  3.01540879e-01  1.36724299e-02\n",
      "   4.39707695e-02  2.69046489e-01  5.91809164e-01  1.25044568e-01\n",
      "   5.06623281e-01  4.19955896e-01]\n",
      " [ 1.71218909e-01  3.78200831e-01 -2.00652315e-08  3.69786343e-01\n",
      "   1.11663598e-01  1.75678697e-02  1.74392819e-01  1.60308320e-08\n",
      "   2.91474246e-01  2.41524701e-09]\n",
      " [ 1.78756045e-08  1.13272535e-08  1.75366915e-04  2.37440168e-03\n",
      "   2.03437305e-03  2.12976451e-03  3.16209513e-03  2.12051692e-09\n",
      "   4.76970198e-03  6.04321799e-09]]\n",
      "Residual A - Y * X:\n",
      "[[-3.56079866e-03 -7.39640754e-04  4.07407121e-03  3.03374959e-03\n",
      "  -1.03352929e-03 -2.37440672e-03  1.51669641e-03 -1.12585169e-02\n",
      "  -1.16259457e-03  1.38584379e-03]\n",
      " [ 7.11263480e-04 -4.95496730e-04 -3.30359644e-04  1.99550345e-04\n",
      "  -7.82159341e-04  2.10728101e-04 -1.68610546e-03  3.65336445e-03\n",
      "   1.27768540e-03  4.68123099e-05]\n",
      " [ 2.86499919e-03  1.66993298e-02  3.71575590e-03 -6.40790167e-03\n",
      "  -1.15490634e-02 -7.63631751e-03 -4.82253140e-03  1.32413473e-02\n",
      "  -1.30965418e-02  1.86633431e-02]\n",
      " [ 7.35543045e-03 -5.55416464e-03 -1.10246000e-03  3.72575012e-03\n",
      "   9.00948218e-03 -4.07474269e-04 -3.24858629e-03 -9.13608373e-03\n",
      "  -3.32916646e-03 -9.96623624e-03]\n",
      " [-2.37646232e-03  1.15561150e-03  3.68066997e-04  4.05405591e-05\n",
      "   1.51873175e-03  4.21713671e-04 -1.79432286e-03  6.00165341e-03\n",
      "   3.27023975e-04 -5.84925054e-04]\n",
      " [ 1.34919853e-02  1.47306491e-02 -3.48646310e-03 -6.57934041e-03\n",
      "  -9.34864504e-03 -5.42026757e-03 -7.35518966e-03  1.84997521e-02\n",
      "  -1.03681663e-02  9.59477473e-03]\n",
      " [-8.17015359e-03 -2.65644720e-02  1.70377039e-02  5.24370509e-03\n",
      "   1.25819877e-02 -2.25007508e-04 -4.53438065e-03 -2.22982095e-02\n",
      "  -5.48390313e-03  1.18706738e-02]\n",
      " [-2.33305323e-03  1.27193768e-03  1.10119360e-03 -1.83163819e-04\n",
      "   1.93714826e-03 -5.12981511e-04  3.21252411e-03 -7.01375226e-03\n",
      "  -2.67819181e-03 -1.35963873e-04]\n",
      " [ 3.48776228e-03 -2.07509604e-03  2.69488638e-03  1.73701129e-04\n",
      "  -1.67544376e-03 -1.59059411e-03  1.24222168e-03 -1.03086704e-02\n",
      "   4.25143339e-04 -1.20755234e-02]\n",
      " [ 6.24794047e-03  1.07863721e-02 -6.66902986e-03 -9.32033858e-03\n",
      "  -3.65829697e-04  1.31457482e-03  5.74653582e-04  1.77050180e-02\n",
      "  -6.12451278e-03  3.23833559e-03]]\n"
     ]
    }
   ],
   "source": [
    "#\n",
    "# Plot residuals.\n",
    "#\n",
    "\n",
    "import matplotlib.pyplot as plt\n",
    "\n",
    "# Show plot inline in ipython.\n",
    "%matplotlib inline\n",
    "\n",
    "# # Set plot properties.\n",
    "# plt.rc('text', usetex=True)\n",
    "# plt.rc('font', family='serif')\n",
    "# font = {'family' : 'normal',\n",
    "#         'weight' : 'normal',\n",
    "#         'size'   : 16}\n",
    "# plt.rc('font', **font)\n",
    "\n",
    "#\n",
    "# Print results.\n",
    "# #\n",
    "print('Original matrix:')\n",
    "print(A)\n",
    "print('Left factor Y:')\n",
    "print(Y)\n",
    "print('Right factor X:')\n",
    "print(X)\n",
    "print('Residual A - Y * X:')\n",
    "print(A - np.matmul(Y, X))\n",
    "# print('Residual after {} iterations: {}'.format(iter_num, prob.value))"
   ]
  },
  {
   "cell_type": "code",
   "execution_count": 9,
   "metadata": {},
   "outputs": [
    {
     "data": {
      "image/png": "[encoded data removed]",
      "text/plain": [
       "<matplotlib.figure.Figure at 0x7fe9f4c3cb50>"
      ]
     },
     "metadata": {
      "needs_background": "light"
     },
     "output_type": "display_data"
    }
   ],
   "source": [
    "# Create the plot.\n",
    "plt.plot(residual)\n",
    "plt.xlabel('Iteration Number')\n",
    "plt.ylabel('Residual Norm')\n",
    "plt.show()"
   ]
  },
  {
   "cell_type": "code",
   "execution_count": 5,
   "metadata": {},
   "outputs": [],
   "source": [
    "X_old = X"
   ]
  },
  {
   "cell_type": "code",
   "execution_count": 6,
   "metadata": {},
   "outputs": [
    {
     "name": "stdout",
     "output_type": "stream",
     "text": [
      "1000 : 0.04874339454933745\n",
      "2000 : 0.007305469891247044\n",
      "3000 : 0.003875678022728795\n",
      "4000 : 0.002983245135389826\n",
      "5000 : 0.0024216167587593597\n",
      "6000 : 0.0019970320074012217\n",
      "7000 : 0.0016584356229062875\n",
      "8000 : 0.001382259142412542\n",
      "9000 : 0.0011545556886380895\n",
      "10000 : 0.0009657514251590225\n",
      "11000 : 0.0008086766688402613\n",
      "12000 : 0.0006777080475511637\n",
      "13000 : 0.0005683287669480846\n",
      "14000 : 0.0004768640928671217\n",
      "15000 : 0.0004003015857521533\n",
      "16000 : 0.0003361592622306081\n",
      "17000 : 0.00028238464374503997\n",
      "18000 : 0.0002372755460592903\n",
      "19000 : 0.00019941700038946658\n",
      "20000 : 0.00016763051856924431\n",
      "21000 : 0.00014093298512292326\n",
      "22000 : 0.00011850315463970175\n",
      "23000 : 9.965421556231289e-05\n",
      "24000 : 8.381123049370579e-05\n",
      "25000 : 7.049252203788758e-05\n",
      "26000 : 5.929426873119666e-05\n",
      "27000 : 4.9877725280330115e-05\n",
      "28000 : 4.1958597175273363e-05\n",
      "29000 : 3.529819027438325e-05\n",
      "30000 : 2.9696027335717838e-05\n"
     ]
    }
   ],
   "source": [
    "Y = Y_init\n",
    "X = X_old\n",
    "epoch = 30000\n",
    "error = np.zeros(epoch)\n",
    "for iter_num in range(1, 1+epoch):\n",
    "    X = X*np.matmul(Y.T, A)/np.matmul(np.matmul(Y.T, Y), X)\n",
    "    Y = Y*np.matmul(A, X.T)/np.matmul(np.matmul(Y, X), X.T)\n",
    "    error[iter_num-1] = np.sqrt(np.sum(np.square(A - np.matmul(Y, X))))\n",
    "    if iter_num%1000 == 0:\n",
    "        print iter_num, ':', error[iter_num-1]"
   ]
  },
  {
   "cell_type": "code",
   "execution_count": 7,
   "metadata": {},
   "outputs": [
    {
     "data": {
      "image/png": "[encoded data removed]",
      "text/plain": [
       "<matplotlib.figure.Figure at 0x7fe9b64c6ed0>"
      ]
     },
     "metadata": {
      "needs_background": "light"
     },
     "output_type": "display_data"
    }
   ],
   "source": [
    "plt.plot(error)\n",
    "plt.xlabel('Iteration Number')\n",
    "plt.ylabel('Residual Norm')\n",
    "plt.show()"
   ]
  },
  {
   "cell_type": "code",
   "execution_count": 8,
   "metadata": {},
   "outputs": [
    {
     "name": "stdout",
     "output_type": "stream",
     "text": [
      "[[1.323426   1.11061189 1.69137835 1.20020115 1.13216889 0.5980743\n",
      "  1.64965406 0.340611   1.69871738 0.78278448]\n",
      " [1.73721109 1.40464204 1.90898877 1.60774132 1.53717253 0.62647405\n",
      "  1.76242265 0.41151492 1.8048194  1.20313124]\n",
      " [1.4071438  1.10269406 1.75323063 1.18928983 1.23428169 0.60364688\n",
      "  1.63792853 0.40855006 1.57257432 1.17227344]\n",
      " [1.3905141  1.33367163 1.07723947 1.67735654 1.33039096 0.42003169\n",
      "  1.22641711 0.21470465 1.47350799 0.84931787]\n",
      " [1.42153652 1.13598552 2.00816457 1.11463462 1.17914429 0.69942578\n",
      "  1.90353699 0.45664487 1.81023916 1.09668578]\n",
      " [1.60813803 1.23214532 1.73741086 1.3148874  1.27589039 0.40755835\n",
      "  1.31904948 0.3469129  1.34256526 0.76924618]\n",
      " [0.90607895 0.6632877  1.25412229 0.81696721 0.87218892 0.50032884\n",
      "  1.245879   0.25079329 1.25017792 0.72155621]\n",
      " [1.5691922  1.47359672 1.76518996 1.66268312 1.43746574 0.72486628\n",
      "  1.97409333 0.39239642 2.09234807 1.16325748]\n",
      " [1.18723548 1.00282008 1.41532595 1.03836298 0.90382914 0.38460446\n",
      "  1.213473   0.23641422 1.32784402 0.27179726]\n",
      " [0.75789915 0.75119989 0.99502166 0.65444815 0.56073096 0.341146\n",
      "  1.02555143 0.24273668 1.01035919 0.49427978]] \n",
      "[[1.32342586 1.11061169 1.69137826 1.20020132 1.13216913 0.59807434\n",
      "  1.64965395 0.34061169 1.69871745 0.78278435]\n",
      " [1.73721125 1.40464329 1.90898962 1.60774098 1.53717155 0.62647368\n",
      "  1.76242277 0.41150992 1.80481891 1.20313239]\n",
      " [1.40714341 1.10269286 1.75323218 1.18928996 1.23428214 0.60364746\n",
      "  1.63792895 0.40854137 1.57257532 1.17227289]\n",
      " [1.39051424 1.3336719  1.07723719 1.67735655 1.33039097 0.42003157\n",
      "  1.22641706 0.21471748 1.47350784 0.84931722]\n",
      " [1.42153652 1.13598562 2.00816521 1.11463449 1.17914421 0.69942579\n",
      "  1.90353706 0.45664077 1.8102391  1.09668642]\n",
      " [1.60813806 1.23214514 1.73741181 1.31488738 1.27589033 0.40755848\n",
      "  1.31904961 0.34690712 1.34256539 0.76924649]\n",
      " [0.90607865 0.66328857 1.25412476 0.81696665 0.87218792 0.50032857\n",
      "  1.24587913 0.2507817  1.25017727 0.72155843]\n",
      " [1.56919226 1.47359544 1.76518786 1.6626837  1.43746705 0.72486655\n",
      "  1.97409297 0.39240791 2.09234851 1.16325554]\n",
      " [1.18723524 1.00281988 1.41532506 1.03836298 0.90382915 0.38460456\n",
      "  1.21347309 0.2364203  1.32784434 0.2717963 ]\n",
      " [0.75790001 0.75120125 0.99501892 0.65444784 0.56073058 0.34114529\n",
      "  1.02555092 0.24275093 1.01035806 0.49427959]]\n"
     ]
    }
   ],
   "source": [
    "print A, '\\n', np.matmul(Y, X)"
   ]
  }
 ],
 "metadata": {
  "kernelspec": {
   "display_name": "kernelForTF",
   "language": "python",
   "name": "kernelfortf"
  },
  "language_info": {
   "codemirror_mode": {
    "name": "ipython",
    "version": 2
   },
   "file_extension": ".py",
   "mimetype": "text/x-python",
   "name": "python",
   "nbconvert_exporter": "python",
   "pygments_lexer": "ipython2",
   "version": "2.7.12"
  }
 },
 "nbformat": 4,
 "nbformat_minor": 1
}
